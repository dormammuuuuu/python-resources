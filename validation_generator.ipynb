{
 "cells": [
  {
   "cell_type": "code",
   "execution_count": 5,
   "metadata": {},
   "outputs": [],
   "source": [
    "import os\n",
    "\n",
    "images_folder = \"data/images\"\n",
    "annotations_folder = \"C:/Users/jeric/Desktop/coco/coco2017labels/coco/labels/train2017\"\n"
   ]
  },
  {
   "cell_type": "code",
   "execution_count": 6,
   "metadata": {},
   "outputs": [],
   "source": [
    "for filename in os.listdir(annotations_folder):\n",
    "    if filename.endswith(\".txt\"):\n",
    "        file_path = os.path.join(annotations_folder, filename)\n",
    "        with open(file_path, \"r\") as f:\n",
    "            lines = f.readlines()\n",
    "        lines = [line for line in lines if line.startswith(\"43\")]\n",
    "        if not lines:\n",
    "            os.remove(file_path)\n",
    "            os.remove(os.path.join(images_folder, filename.replace(\".txt\", \".jpg\")))\n",
    "        else:\n",
    "            with open(file_path, \"w\") as f:\n",
    "                f.writelines(lines)"
   ]
  },
  {
   "cell_type": "code",
   "execution_count": 7,
   "metadata": {},
   "outputs": [
    {
     "name": "stdout",
     "output_type": "stream",
     "text": [
      "Number of images missing txt file: 77\n",
      "Missing txt files: ['000000000139.jpg', '000000005001.jpg', '000000025593.jpg', '000000041488.jpg', '000000042888.jpg', '000000049091.jpg', '000000058636.jpg', '000000064574.jpg', '000000098497.jpg', '000000099024.jpg', '000000101022.jpg', '000000106389.jpg', '000000121153.jpg', '000000123633.jpg', '000000127135.jpg', '000000154213.jpg', '000000161008.jpg', '000000173008.jpg', '000000173183.jpg', '000000176701.jpg', '000000198915.jpg', '000000200152.jpg', '000000226111.jpg', '000000228771.jpg', '000000231831.jpg', '000000240767.jpg', '000000245576.jpg', '000000251824.jpg', '000000255483.jpg', '000000260657.jpg', '000000261796.jpg', '000000267946.jpg', '000000268996.jpg', '000000270386.jpg', '000000278006.jpg', '000000297562.jpg', '000000298396.jpg', '000000308391.jpg', '000000310622.jpg', '000000311180.jpg', '000000312549.jpg', '000000320706.jpg', '000000324715.jpg', '000000330554.jpg', '000000340930.jpg', '000000344611.jpg', '000000348012.jpg', '000000351096.jpg', '000000357501.jpg', '000000367095.jpg', '000000368294.jpg', '000000368982.jpg', '000000370999.jpg', '000000374727.jpg', '000000382734.jpg', '000000402096.jpg', '000000404601.jpg', '000000419098.jpg', '000000447789.jpg', '000000458663.jpg', '000000458790.jpg', '000000461275.jpg', '000000476491.jpg', '000000477118.jpg', '000000481404.jpg', '000000500716.jpg', '000000502910.jpg', '000000514540.jpg', '000000528977.jpg', '000000536343.jpg', '000000542073.jpg', '000000546826.jpg', '000000550322.jpg', '000000550939.jpg', '000000556498.jpg', '000000560371.jpg', '000000562843.jpg']\n"
     ]
    }
   ],
   "source": [
    "import os\n",
    "\n",
    "images_folder = \"C:/Users/jeric/Desktop/coco/val2017\"\n",
    "txt_folder = \"C:/Users/jeric/Desktop/coco/label/val2017\"\n",
    "\n",
    "missing_txt = []\n",
    "\n",
    "for filename in os.listdir(images_folder):\n",
    "    if filename.endswith(\".jpg\") or filename.endswith(\".jpeg\") or filename.endswith(\".png\"):\n",
    "        txt_file = os.path.join(txt_folder, filename.replace(\".jpg\", \".txt\").replace(\".jpeg\", \".txt\").replace(\".png\", \".txt\"))\n",
    "        if not os.path.exists(txt_file):\n",
    "            missing_txt.append(filename)\n",
    "\n",
    "print(\"Number of images missing txt file:\", len(missing_txt))\n",
    "print(\"Missing txt files:\", missing_txt)\n"
   ]
  },
  {
   "cell_type": "code",
   "execution_count": 8,
   "metadata": {},
   "outputs": [
    {
     "name": "stdout",
     "output_type": "stream",
     "text": [
      "Removed  000000000139.jpg\n",
      "Removed  000000005001.jpg\n",
      "Removed  000000025593.jpg\n",
      "Removed  000000041488.jpg\n",
      "Removed  000000042888.jpg\n",
      "Removed  000000049091.jpg\n",
      "Removed  000000058636.jpg\n",
      "Removed  000000064574.jpg\n",
      "Removed  000000098497.jpg\n",
      "Removed  000000099024.jpg\n",
      "Removed  000000101022.jpg\n",
      "Removed  000000106389.jpg\n",
      "Removed  000000121153.jpg\n",
      "Removed  000000123633.jpg\n",
      "Removed  000000127135.jpg\n",
      "Removed  000000154213.jpg\n",
      "Removed  000000161008.jpg\n",
      "Removed  000000173008.jpg\n",
      "Removed  000000173183.jpg\n",
      "Removed  000000176701.jpg\n",
      "Removed  000000198915.jpg\n",
      "Removed  000000200152.jpg\n",
      "Removed  000000226111.jpg\n",
      "Removed  000000228771.jpg\n",
      "Removed  000000231831.jpg\n",
      "Removed  000000240767.jpg\n",
      "Removed  000000245576.jpg\n",
      "Removed  000000251824.jpg\n",
      "Removed  000000255483.jpg\n",
      "Removed  000000260657.jpg\n",
      "Removed  000000261796.jpg\n",
      "Removed  000000267946.jpg\n",
      "Removed  000000268996.jpg\n",
      "Removed  000000270386.jpg\n",
      "Removed  000000278006.jpg\n",
      "Removed  000000297562.jpg\n",
      "Removed  000000298396.jpg\n",
      "Removed  000000308391.jpg\n",
      "Removed  000000310622.jpg\n",
      "Removed  000000311180.jpg\n",
      "Removed  000000312549.jpg\n",
      "Removed  000000320706.jpg\n",
      "Removed  000000324715.jpg\n",
      "Removed  000000330554.jpg\n",
      "Removed  000000340930.jpg\n",
      "Removed  000000344611.jpg\n",
      "Removed  000000348012.jpg\n",
      "Removed  000000351096.jpg\n",
      "Removed  000000357501.jpg\n",
      "Removed  000000367095.jpg\n",
      "Removed  000000368294.jpg\n",
      "Removed  000000368982.jpg\n",
      "Removed  000000370999.jpg\n",
      "Removed  000000374727.jpg\n",
      "Removed  000000382734.jpg\n",
      "Removed  000000402096.jpg\n",
      "Removed  000000404601.jpg\n",
      "Removed  000000419098.jpg\n",
      "Removed  000000447789.jpg\n",
      "Removed  000000458663.jpg\n",
      "Removed  000000458790.jpg\n",
      "Removed  000000461275.jpg\n",
      "Removed  000000476491.jpg\n",
      "Removed  000000477118.jpg\n",
      "Removed  000000481404.jpg\n",
      "Removed  000000500716.jpg\n",
      "Removed  000000502910.jpg\n",
      "Removed  000000514540.jpg\n",
      "Removed  000000528977.jpg\n",
      "Removed  000000536343.jpg\n",
      "Removed  000000542073.jpg\n",
      "Removed  000000546826.jpg\n",
      "Removed  000000550322.jpg\n",
      "Removed  000000550939.jpg\n",
      "Removed  000000556498.jpg\n",
      "Removed  000000560371.jpg\n",
      "Removed  000000562843.jpg\n"
     ]
    }
   ],
   "source": [
    "for filename in missing_txt:\n",
    "    os.remove(os.path.join(images_folder, filename))\n",
    "    print (\"Removed \", filename)"
   ]
  },
  {
   "cell_type": "code",
   "execution_count": 16,
   "metadata": {},
   "outputs": [],
   "source": [
    "\n",
    "images_folder = \"C:/Users/jeric/Desktop/coco/val2017\"\n",
    "annotations_folder = \"C:/Users/jeric/Desktop/coco/label/val2017\"\n",
    "\n",
    "images = os.listdir(images_folder)\n",
    "total_images = len(images)\n",
    "\n",
    "images_to_keep = images[:1500]\n",
    "images_to_delete = images[1500:]\n",
    "\n",
    "for image in images_to_delete:\n",
    "    image_path = os.path.join(images_folder, image)\n",
    "    os.remove(image_path)\n",
    "    \n",
    "    annotation_path = os.path.join(annotations_folder, image.replace(\".jpg\", \".txt\"))\n",
    "    os.remove(annotation_path)\n"
   ]
  }
 ],
 "metadata": {
  "kernelspec": {
   "display_name": "SADI",
   "language": "python",
   "name": "python3"
  },
  "language_info": {
   "codemirror_mode": {
    "name": "ipython",
    "version": 3
   },
   "file_extension": ".py",
   "mimetype": "text/x-python",
   "name": "python",
   "nbconvert_exporter": "python",
   "pygments_lexer": "ipython3",
   "version": "3.9.16"
  },
  "orig_nbformat": 4,
  "vscode": {
   "interpreter": {
    "hash": "553fa0075d0439e363aa13b3596e728a8ceb7250f167be0b460efaa944fb79a6"
   }
  }
 },
 "nbformat": 4,
 "nbformat_minor": 2
}
