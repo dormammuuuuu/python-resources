{
 "cells": [
  {
   "attachments": {},
   "cell_type": "markdown",
   "metadata": {},
   "source": [
    "# Download and Trim the video  "
   ]
  },
  {
   "attachments": {},
   "cell_type": "markdown",
   "metadata": {},
   "source": [
    "#### Install Packages"
   ]
  },
  {
   "cell_type": "code",
   "execution_count": 7,
   "metadata": {},
   "outputs": [],
   "source": [
    "# Install pytube\n",
    "# pip install git+https://github.com/JNYH/pytube\n",
    "# or \n",
    "# pip install git+https://github.com/baxterisme/pytube\n",
    "\n",
    "\n",
    "\n",
    "# Install ffmpeg\n",
    "# pip uninstall ffmpeg-python\n",
    "# conda install ffmpeg\n",
    "# pip install ffmpeg-python\n"
   ]
  },
  {
   "attachments": {},
   "cell_type": "markdown",
   "metadata": {},
   "source": [
    "### Download trim videos from youtube and extract it frame by frame by seconds format"
   ]
  },
  {
   "cell_type": "code",
   "execution_count": 1,
   "metadata": {},
   "outputs": [],
   "source": [
    "from pytube import YouTube\n",
    "from moviepy.video.io.VideoFileClip import VideoFileClip\n",
    "import os\n",
    "import numpy as np\n",
    "from datetime import timedelta\n",
    "\n",
    "SAVING_FRAMES_PER_SECOND = 5\n",
    "\n",
    "def format_timedelta(td):\n",
    "    \"\"\"Utility function to format timedelta objects in a cool way (e.g 00:00:20.05) \n",
    "    omitting microseconds and retaining milliseconds\"\"\"\n",
    "    result = str(td)\n",
    "    try:\n",
    "        result, ms = result.split(\".\")\n",
    "    except ValueError:      \n",
    "        return (result + \".00\").replace(\":\", \"-\")\n",
    "    ms = int(ms)\n",
    "    ms = round(ms / 1e4)\n",
    "    return f\"{result}.{ms:02}\".replace(\":\", \"-\")\n",
    "\n",
    "\n",
    "def DownloadAndTrim(link, start_time, end_time, output_file,  directory='./yt_videos'):\n",
    "    youtubeObject = YouTube(link)\n",
    "    youtubeObject = youtubeObject.streams.filter(res=\"1080p\", progressive=False).first()\n",
    "    try:\n",
    "        youtubeObject.download()\n",
    "        input_file = youtubeObject.default_filename\n",
    "        clip = VideoFileClip(input_file).subclip(start_time, end_time)\n",
    "        clip.write_videofile(output_file)\n",
    "\n",
    "        filename, _ = os.path.splitext(output_file)\n",
    "        filename += \"-sadipy\"\n",
    "        if not os.path.isdir(filename):\n",
    "            os.mkdir(filename)\n",
    "\n",
    "        video_clip = VideoFileClip(output_file)\n",
    "        saving_frames_per_second = min(video_clip.fps, SAVING_FRAMES_PER_SECOND)\n",
    "        step = 1 / video_clip.fps if saving_frames_per_second == 0 else 1 / saving_frames_per_second\n",
    "        for current_duration in np.arange(0, video_clip.duration, step):\n",
    "            frame_duration_formatted = format_timedelta(timedelta(seconds=current_duration))\n",
    "            frame_filename = os.path.join(filename, f\"frame{frame_duration_formatted}.jpg\")\n",
    "            video_clip.save_frame(frame_filename, current_duration)\n",
    "            print (f\"Saved frame {frame_filename} at { current_duration } seconds\")\n",
    "    except:\n",
    "        print(\"An error has occurred\")\n",
    "    print(\"Download, trimming and frame extraction is completed successfully\")\n",
    "\n"
   ]
  },
  {
   "attachments": {},
   "cell_type": "markdown",
   "metadata": {},
   "source": [
    "### Call the Function"
   ]
  },
  {
   "cell_type": "code",
   "execution_count": 2,
   "metadata": {},
   "outputs": [
    {
     "name": "stdout",
     "output_type": "stream",
     "text": [
      "Moviepy - Building video stabbing.mp4.\n",
      "Moviepy - Writing video stabbing.mp4\n",
      "\n"
     ]
    },
    {
     "name": "stderr",
     "output_type": "stream",
     "text": [
      "                                                              \r"
     ]
    },
    {
     "name": "stdout",
     "output_type": "stream",
     "text": [
      "Moviepy - Done !\n",
      "Moviepy - video ready stabbing.mp4\n",
      "Saved frame stabbing-sadipy\\frame0-00-00.00.jpg at 0.0 seconds\n",
      "Saved frame stabbing-sadipy\\frame0-00-00.20.jpg at 0.2 seconds\n",
      "Saved frame stabbing-sadipy\\frame0-00-00.40.jpg at 0.4 seconds\n",
      "Saved frame stabbing-sadipy\\frame0-00-00.60.jpg at 0.6000000000000001 seconds\n",
      "Saved frame stabbing-sadipy\\frame0-00-00.80.jpg at 0.8 seconds\n",
      "Saved frame stabbing-sadipy\\frame0-00-01.00.jpg at 1.0 seconds\n",
      "Saved frame stabbing-sadipy\\frame0-00-01.20.jpg at 1.2000000000000002 seconds\n",
      "Saved frame stabbing-sadipy\\frame0-00-01.40.jpg at 1.4000000000000001 seconds\n",
      "Saved frame stabbing-sadipy\\frame0-00-01.60.jpg at 1.6 seconds\n",
      "Saved frame stabbing-sadipy\\frame0-00-01.80.jpg at 1.8 seconds\n",
      "Saved frame stabbing-sadipy\\frame0-00-02.00.jpg at 2.0 seconds\n",
      "Saved frame stabbing-sadipy\\frame0-00-02.20.jpg at 2.2 seconds\n",
      "Saved frame stabbing-sadipy\\frame0-00-02.40.jpg at 2.4000000000000004 seconds\n",
      "Saved frame stabbing-sadipy\\frame0-00-02.60.jpg at 2.6 seconds\n",
      "Saved frame stabbing-sadipy\\frame0-00-02.80.jpg at 2.8000000000000003 seconds\n",
      "Saved frame stabbing-sadipy\\frame0-00-03.00.jpg at 3.0 seconds\n",
      "Saved frame stabbing-sadipy\\frame0-00-03.20.jpg at 3.2 seconds\n",
      "Saved frame stabbing-sadipy\\frame0-00-03.40.jpg at 3.4000000000000004 seconds\n",
      "Saved frame stabbing-sadipy\\frame0-00-03.60.jpg at 3.6 seconds\n",
      "Saved frame stabbing-sadipy\\frame0-00-03.80.jpg at 3.8000000000000003 seconds\n",
      "Saved frame stabbing-sadipy\\frame0-00-04.00.jpg at 4.0 seconds\n",
      "Saved frame stabbing-sadipy\\frame0-00-04.20.jpg at 4.2 seconds\n",
      "Saved frame stabbing-sadipy\\frame0-00-04.40.jpg at 4.4 seconds\n",
      "Saved frame stabbing-sadipy\\frame0-00-04.60.jpg at 4.6000000000000005 seconds\n",
      "Saved frame stabbing-sadipy\\frame0-00-04.80.jpg at 4.800000000000001 seconds\n",
      "Saved frame stabbing-sadipy\\frame0-00-05.00.jpg at 5.0 seconds\n",
      "Saved frame stabbing-sadipy\\frame0-00-05.20.jpg at 5.2 seconds\n",
      "Saved frame stabbing-sadipy\\frame0-00-05.40.jpg at 5.4 seconds\n",
      "Saved frame stabbing-sadipy\\frame0-00-05.60.jpg at 5.6000000000000005 seconds\n",
      "Saved frame stabbing-sadipy\\frame0-00-05.80.jpg at 5.800000000000001 seconds\n",
      "Saved frame stabbing-sadipy\\frame0-00-06.00.jpg at 6.0 seconds\n",
      "Saved frame stabbing-sadipy\\frame0-00-06.20.jpg at 6.2 seconds\n",
      "Saved frame stabbing-sadipy\\frame0-00-06.40.jpg at 6.4 seconds\n",
      "Saved frame stabbing-sadipy\\frame0-00-06.60.jpg at 6.6000000000000005 seconds\n",
      "Saved frame stabbing-sadipy\\frame0-00-06.80.jpg at 6.800000000000001 seconds\n",
      "Saved frame stabbing-sadipy\\frame0-00-07.00.jpg at 7.0 seconds\n",
      "Saved frame stabbing-sadipy\\frame0-00-07.20.jpg at 7.2 seconds\n",
      "Saved frame stabbing-sadipy\\frame0-00-07.40.jpg at 7.4 seconds\n",
      "Saved frame stabbing-sadipy\\frame0-00-07.60.jpg at 7.6000000000000005 seconds\n",
      "Saved frame stabbing-sadipy\\frame0-00-07.80.jpg at 7.800000000000001 seconds\n",
      "Saved frame stabbing-sadipy\\frame0-00-08.00.jpg at 8.0 seconds\n",
      "Saved frame stabbing-sadipy\\frame0-00-08.20.jpg at 8.200000000000001 seconds\n",
      "Saved frame stabbing-sadipy\\frame0-00-08.40.jpg at 8.4 seconds\n",
      "Saved frame stabbing-sadipy\\frame0-00-08.60.jpg at 8.6 seconds\n",
      "Saved frame stabbing-sadipy\\frame0-00-08.80.jpg at 8.8 seconds\n",
      "Saved frame stabbing-sadipy\\frame0-00-09.00.jpg at 9.0 seconds\n",
      "Saved frame stabbing-sadipy\\frame0-00-09.20.jpg at 9.200000000000001 seconds\n",
      "Saved frame stabbing-sadipy\\frame0-00-09.40.jpg at 9.4 seconds\n",
      "Saved frame stabbing-sadipy\\frame0-00-09.60.jpg at 9.600000000000001 seconds\n",
      "Saved frame stabbing-sadipy\\frame0-00-09.80.jpg at 9.8 seconds\n",
      "Saved frame stabbing-sadipy\\frame0-00-10.00.jpg at 10.0 seconds\n",
      "Saved frame stabbing-sadipy\\frame0-00-10.20.jpg at 10.200000000000001 seconds\n",
      "Saved frame stabbing-sadipy\\frame0-00-10.40.jpg at 10.4 seconds\n",
      "Saved frame stabbing-sadipy\\frame0-00-10.60.jpg at 10.600000000000001 seconds\n",
      "Saved frame stabbing-sadipy\\frame0-00-10.80.jpg at 10.8 seconds\n",
      "Saved frame stabbing-sadipy\\frame0-00-11.00.jpg at 11.0 seconds\n",
      "Saved frame stabbing-sadipy\\frame0-00-11.20.jpg at 11.200000000000001 seconds\n",
      "Saved frame stabbing-sadipy\\frame0-00-11.40.jpg at 11.4 seconds\n",
      "Saved frame stabbing-sadipy\\frame0-00-11.60.jpg at 11.600000000000001 seconds\n",
      "Saved frame stabbing-sadipy\\frame0-00-11.80.jpg at 11.8 seconds\n",
      "Saved frame stabbing-sadipy\\frame0-00-12.00.jpg at 12.0 seconds\n",
      "Saved frame stabbing-sadipy\\frame0-00-12.20.jpg at 12.200000000000001 seconds\n",
      "Saved frame stabbing-sadipy\\frame0-00-12.40.jpg at 12.4 seconds\n",
      "Saved frame stabbing-sadipy\\frame0-00-12.60.jpg at 12.600000000000001 seconds\n",
      "Saved frame stabbing-sadipy\\frame0-00-12.80.jpg at 12.8 seconds\n",
      "Saved frame stabbing-sadipy\\frame0-00-13.00.jpg at 13.0 seconds\n",
      "Saved frame stabbing-sadipy\\frame0-00-13.20.jpg at 13.200000000000001 seconds\n",
      "Saved frame stabbing-sadipy\\frame0-00-13.40.jpg at 13.4 seconds\n",
      "Saved frame stabbing-sadipy\\frame0-00-13.60.jpg at 13.600000000000001 seconds\n",
      "Saved frame stabbing-sadipy\\frame0-00-13.80.jpg at 13.8 seconds\n",
      "Saved frame stabbing-sadipy\\frame0-00-14.00.jpg at 14.0 seconds\n",
      "Saved frame stabbing-sadipy\\frame0-00-14.20.jpg at 14.200000000000001 seconds\n",
      "Saved frame stabbing-sadipy\\frame0-00-14.40.jpg at 14.4 seconds\n",
      "Saved frame stabbing-sadipy\\frame0-00-14.60.jpg at 14.600000000000001 seconds\n",
      "Saved frame stabbing-sadipy\\frame0-00-14.80.jpg at 14.8 seconds\n",
      "Saved frame stabbing-sadipy\\frame0-00-15.00.jpg at 15.0 seconds\n",
      "Saved frame stabbing-sadipy\\frame0-00-15.20.jpg at 15.200000000000001 seconds\n",
      "Saved frame stabbing-sadipy\\frame0-00-15.40.jpg at 15.4 seconds\n",
      "Saved frame stabbing-sadipy\\frame0-00-15.60.jpg at 15.600000000000001 seconds\n",
      "Saved frame stabbing-sadipy\\frame0-00-15.80.jpg at 15.8 seconds\n",
      "Saved frame stabbing-sadipy\\frame0-00-16.00.jpg at 16.0 seconds\n",
      "Saved frame stabbing-sadipy\\frame0-00-16.20.jpg at 16.2 seconds\n",
      "Saved frame stabbing-sadipy\\frame0-00-16.40.jpg at 16.400000000000002 seconds\n",
      "Saved frame stabbing-sadipy\\frame0-00-16.60.jpg at 16.6 seconds\n",
      "Saved frame stabbing-sadipy\\frame0-00-16.80.jpg at 16.8 seconds\n",
      "Saved frame stabbing-sadipy\\frame0-00-17.00.jpg at 17.0 seconds\n",
      "Saved frame stabbing-sadipy\\frame0-00-17.20.jpg at 17.2 seconds\n",
      "Saved frame stabbing-sadipy\\frame0-00-17.40.jpg at 17.400000000000002 seconds\n",
      "Saved frame stabbing-sadipy\\frame0-00-17.60.jpg at 17.6 seconds\n",
      "Saved frame stabbing-sadipy\\frame0-00-17.80.jpg at 17.8 seconds\n",
      "Saved frame stabbing-sadipy\\frame0-00-18.00.jpg at 18.0 seconds\n",
      "Saved frame stabbing-sadipy\\frame0-00-18.20.jpg at 18.2 seconds\n",
      "Saved frame stabbing-sadipy\\frame0-00-18.40.jpg at 18.400000000000002 seconds\n",
      "Saved frame stabbing-sadipy\\frame0-00-18.60.jpg at 18.6 seconds\n",
      "Saved frame stabbing-sadipy\\frame0-00-18.80.jpg at 18.8 seconds\n",
      "Saved frame stabbing-sadipy\\frame0-00-19.00.jpg at 19.0 seconds\n",
      "Saved frame stabbing-sadipy\\frame0-00-19.20.jpg at 19.200000000000003 seconds\n",
      "Saved frame stabbing-sadipy\\frame0-00-19.40.jpg at 19.400000000000002 seconds\n",
      "Saved frame stabbing-sadipy\\frame0-00-19.60.jpg at 19.6 seconds\n",
      "Saved frame stabbing-sadipy\\frame0-00-19.80.jpg at 19.8 seconds\n",
      "Saved frame stabbing-sadipy\\frame0-00-20.00.jpg at 20.0 seconds\n",
      "Saved frame stabbing-sadipy\\frame0-00-20.20.jpg at 20.200000000000003 seconds\n",
      "Saved frame stabbing-sadipy\\frame0-00-20.40.jpg at 20.400000000000002 seconds\n",
      "Saved frame stabbing-sadipy\\frame0-00-20.60.jpg at 20.6 seconds\n",
      "Saved frame stabbing-sadipy\\frame0-00-20.80.jpg at 20.8 seconds\n",
      "Saved frame stabbing-sadipy\\frame0-00-21.00.jpg at 21.0 seconds\n",
      "Saved frame stabbing-sadipy\\frame0-00-21.20.jpg at 21.200000000000003 seconds\n",
      "Saved frame stabbing-sadipy\\frame0-00-21.40.jpg at 21.400000000000002 seconds\n",
      "Saved frame stabbing-sadipy\\frame0-00-21.60.jpg at 21.6 seconds\n",
      "Saved frame stabbing-sadipy\\frame0-00-21.80.jpg at 21.8 seconds\n",
      "Saved frame stabbing-sadipy\\frame0-00-22.00.jpg at 22.0 seconds\n",
      "Saved frame stabbing-sadipy\\frame0-00-22.20.jpg at 22.200000000000003 seconds\n",
      "Saved frame stabbing-sadipy\\frame0-00-22.40.jpg at 22.400000000000002 seconds\n",
      "Saved frame stabbing-sadipy\\frame0-00-22.60.jpg at 22.6 seconds\n",
      "Saved frame stabbing-sadipy\\frame0-00-22.80.jpg at 22.8 seconds\n",
      "Saved frame stabbing-sadipy\\frame0-00-23.00.jpg at 23.0 seconds\n",
      "Saved frame stabbing-sadipy\\frame0-00-23.20.jpg at 23.200000000000003 seconds\n",
      "Saved frame stabbing-sadipy\\frame0-00-23.40.jpg at 23.400000000000002 seconds\n",
      "Saved frame stabbing-sadipy\\frame0-00-23.60.jpg at 23.6 seconds\n",
      "Saved frame stabbing-sadipy\\frame0-00-23.80.jpg at 23.8 seconds\n",
      "Download, trimming and frame extraction is completed successfully\n"
     ]
    }
   ],
   "source": [
    "DownloadAndTrim(\"https://www.youtube.com/watch?v=rB6Uyl3UF6Q&ab_channel=PPSSGroup\", 112, 136, \"stabbing.mp4\")"
   ]
  },
  {
   "attachments": {},
   "cell_type": "markdown",
   "metadata": {},
   "source": [
    "### Download trim videos from youtube by seconds format"
   ]
  },
  {
   "cell_type": "code",
   "execution_count": 1,
   "metadata": {},
   "outputs": [],
   "source": [
    "from pytube import YouTube\n",
    "from moviepy.video.io.VideoFileClip import VideoFileClip\n",
    "import os\n",
    "\n",
    "\n",
    "def DownloadAndTrim(link, start_time, end_time, output_file, directory='./yt_videos'):\n",
    "    youtubeObject = YouTube(link)\n",
    "    youtubeObject = youtubeObject.streams.filter(res=\"1080p\", progressive=False).first()\n",
    "    try:\n",
    "        youtubeObject.download()\n",
    "        input_file = youtubeObject.default_filename\n",
    "        clip = VideoFileClip(input_file).subclip(start_time, end_time)\n",
    "        output_path = os.path.join(directory, output_file)\n",
    "        clip.write_videofile(output_path)\n",
    "        os.remove(input_file)\n",
    "    except:\n",
    "        print(\"An error has occurred\")\n",
    "    print(\"Download, trimming and deletion is completed successfully\")"
   ]
  },
  {
   "attachments": {},
   "cell_type": "markdown",
   "metadata": {},
   "source": [
    "```________________________________________________________________________________________________________________```"
   ]
  },
  {
   "attachments": {},
   "cell_type": "markdown",
   "metadata": {},
   "source": [
    "### Download Video from youtube"
   ]
  },
  {
   "cell_type": "code",
   "execution_count": 10,
   "metadata": {},
   "outputs": [
    {
     "name": "stdout",
     "output_type": "stream",
     "text": [
      "Download is completed successfully\n"
     ]
    }
   ],
   "source": [
    "from pytube import YouTube\n",
    "\n",
    "def Download(link):\n",
    "    youtubeObject = YouTube(link)\n",
    "   #  youtubeObject = youtubeObject.streams.get_highest_resolution()\n",
    "    youtubeObject = youtubeObject.streams.filter(res=\"1080p\", progressive=False).first()\n",
    "    try:\n",
    "        youtubeObject.download()\n",
    "    except:\n",
    "        print(\"An error has occurred\")\n",
    "    print(\"Download is completed successfully\")\n",
    "\n",
    "\n",
    "link = input(\"Enter the YouTube video URL: \")\n",
    "Download(link)"
   ]
  },
  {
   "cell_type": "markdown",
   "metadata": {},
   "source": [
    "### Trim video from  local"
   ]
  },
  {
   "cell_type": "code",
   "execution_count": 11,
   "metadata": {},
   "outputs": [
    {
     "name": "stdout",
     "output_type": "stream",
     "text": [
      "Moviepy - Building video output.mp4.\n",
      "Moviepy - Writing video output.mp4\n",
      "\n"
     ]
    },
    {
     "name": "stderr",
     "output_type": "stream",
     "text": [
      "                                                                \r"
     ]
    },
    {
     "name": "stdout",
     "output_type": "stream",
     "text": [
      "Moviepy - Done !\n",
      "Moviepy - video ready output.mp4\n"
     ]
    }
   ],
   "source": [
    "from moviepy.video.io.VideoFileClip import VideoFileClip\n",
    "\n",
    "def trim_video(input_file, start_time, end_time, output_file):\n",
    "    clip = VideoFileClip(input_file).subclip(start_time, end_time)\n",
    "    clip.write_videofile(output_file)\n",
    "\n",
    "if __name__ == '__main__':\n",
    "    input_file = 'PPSS Stab Resistant Vests - Video Demo.mp4'\n",
    "    start_time = 112\n",
    "    end_time = 136\n",
    "    output_file = 'output.mp4'\n",
    "\n",
    "    trim_video(input_file, start_time, end_time, output_file)\n"
   ]
  },
  {
   "cell_type": "code",
   "execution_count": null,
   "metadata": {},
   "outputs": [],
   "source": []
  }
 ],
 "metadata": {
  "kernelspec": {
   "display_name": "tf_libraries",
   "language": "python",
   "name": "python3"
  },
  "language_info": {
   "codemirror_mode": {
    "name": "ipython",
    "version": 3
   },
   "file_extension": ".py",
   "mimetype": "text/x-python",
   "name": "python",
   "nbconvert_exporter": "python",
   "pygments_lexer": "ipython3",
   "version": "3.9.16"
  },
  "orig_nbformat": 4,
  "vscode": {
   "interpreter": {
    "hash": "36747e19a3ab467c1bd4d8440680c5b3e50a419c096ec22c7bcc5fd5c3d0c3d4"
   }
  }
 },
 "nbformat": 4,
 "nbformat_minor": 2
}
