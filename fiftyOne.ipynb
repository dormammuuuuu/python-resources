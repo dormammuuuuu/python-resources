{
 "cells": [
  {
   "cell_type": "code",
   "execution_count": 2,
   "metadata": {},
   "outputs": [],
   "source": [
    "import fiftyone.zoo as foz\n",
    "# Visualize the dataset in the FiftyOne App\n",
    "import fiftyone as fo\n",
    "from fiftyone import ViewField as F"
   ]
  },
  {
   "cell_type": "code",
   "execution_count": 6,
   "metadata": {},
   "outputs": [
    {
     "name": "stdout",
     "output_type": "stream",
     "text": [
      "Downloading split 'train' to 'C:\\Users\\jeric\\fiftyone\\open-images-v6\\train' if necessary\n",
      "Downloading 10000 images\n",
      " 100% |███████████████| 10000/10000 [25.2m elapsed, 0s remaining, 7.7 files/s]      \n",
      "Dataset info written to 'C:\\Users\\jeric\\fiftyone\\open-images-v6\\info.json'\n",
      "Loading 'open-images-v6' split 'train'\n",
      " 100% |█████████████| 10000/10000 [2.6m elapsed, 0s remaining, 74.9 samples/s]       \n",
      "Dataset 'Person' created\n"
     ]
    }
   ],
   "source": [
    "# To download the COCO dataset for only the \"person\" and \"car\" classes\n",
    "dataset = fo.zoo.load_zoo_dataset(\n",
    "        \"open-images-v6\",\n",
    "        split=\"train\",\n",
    "        label_types=[\"detections\"],\n",
    "        classes=[\"Person\"],\n",
    "        max_samples=10000,\n",
    "        dataset_name=\"Person\",\n",
    "        shuffle=True,\n",
    "        seed=51,\n",
    ")"
   ]
  },
  {
   "cell_type": "code",
   "execution_count": 8,
   "metadata": {},
   "outputs": [
    {
     "data": {
      "text/html": [
       "\n",
       "        <iframe\n",
       "            width=\"100%\"\n",
       "            height=\"800\"\n",
       "            src=\"http://localhost:5151/?context=ipython&subscription=0c237ed0-d69b-451d-bbbe-eb57c03ae5eb\"\n",
       "            frameborder=\"0\"\n",
       "            allowfullscreen\n",
       "            \n",
       "        ></iframe>\n",
       "        "
      ],
      "text/plain": [
       "<IPython.lib.display.IFrame at 0x1bbd58e5820>"
      ]
     },
     "metadata": {},
     "output_type": "display_data"
    }
   ],
   "source": [
    "session = fo.launch_app(dataset)"
   ]
  },
  {
   "cell_type": "code",
   "execution_count": 9,
   "metadata": {},
   "outputs": [],
   "source": [
    "# Create a view that only contains cats and dogs\n",
    "view = dataset.filter_labels(\"detections\", F(\"label\").is_in([\"Person\"]))"
   ]
  },
  {
   "cell_type": "code",
   "execution_count": 10,
   "metadata": {},
   "outputs": [
    {
     "name": "stdout",
     "output_type": "stream",
     "text": [
      " 100% |█████████████| 10000/10000 [3.2m elapsed, 0s remaining, 71.3 samples/s]       \n"
     ]
    }
   ],
   "source": [
    "# dataset.export(export_dir=\"C:/Users/jeric/Desktop/Export Scissors\", dataset_type=\"coco\", label_field=\"detections\")\n",
    "\n",
    "# The directory to which to write the exported dataset\n",
    "export_dir = \"C:/Users/jeric/Desktop/Export Person\"\n",
    "\n",
    "# The name of the sample field containing the label that you wish to export\n",
    "# Used when exporting labeled datasets (e.g., classification or detection)\n",
    "label_field = \"detections\"  # for example\n",
    "\n",
    "# The type of dataset to export\n",
    "# Any subclass of `fiftyone.types.Dataset` is supported\n",
    "dataset_type = fo.types.COCODetectionDataset  # for example\n",
    "\n",
    "# Export the dataset\n",
    "view.export(\n",
    "    export_dir=export_dir,\n",
    "    dataset_type=dataset_type,\n",
    "    label_field=label_field,\n",
    ")"
   ]
  }
 ],
 "metadata": {
  "kernelspec": {
   "display_name": "SADI",
   "language": "python",
   "name": "python3"
  },
  "language_info": {
   "codemirror_mode": {
    "name": "ipython",
    "version": 3
   },
   "file_extension": ".py",
   "mimetype": "text/x-python",
   "name": "python",
   "nbconvert_exporter": "python",
   "pygments_lexer": "ipython3",
   "version": "3.9.16"
  },
  "orig_nbformat": 4,
  "vscode": {
   "interpreter": {
    "hash": "553fa0075d0439e363aa13b3596e728a8ceb7250f167be0b460efaa944fb79a6"
   }
  }
 },
 "nbformat": 4,
 "nbformat_minor": 2
}
