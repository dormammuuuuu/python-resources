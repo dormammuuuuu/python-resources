{
 "cells": [
  {
   "cell_type": "code",
   "execution_count": 3,
   "metadata": {},
   "outputs": [],
   "source": [
    "import fiftyone.zoo as foz\n",
    "# Visualize the dataset in the FiftyOne App\n",
    "import fiftyone as fo\n",
    "from fiftyone import ViewField as F\n",
    "import os"
   ]
  },
  {
   "cell_type": "code",
   "execution_count": 10,
   "metadata": {},
   "outputs": [],
   "source": [
    "# Variables\n",
    "\n",
    "# Dataset Name\n",
    "dataset_name = \"Bisikleta_bago\"\n",
    "dataset_source = \"open-images-v6\"\n",
    "classes = [\"Bicycle\"]\n",
    "img_count = 6000\n",
    "\n"
   ]
  },
  {
   "cell_type": "code",
   "execution_count": 13,
   "metadata": {},
   "outputs": [
    {
     "name": "stdout",
     "output_type": "stream",
     "text": [
      "Downloading split 'train' to 'C:\\Users\\jeric\\fiftyone\\open-images-v6\\train' if necessary\n",
      "Downloading 'https://storage.googleapis.com/openimages/2018_04/train/train-images-boxable-with-rotation.csv' to 'C:\\Users\\jeric\\fiftyone\\open-images-v6\\train\\metadata\\image_ids.csv'\n",
      " 100% |██████|    4.8Gb/4.8Gb [19.5s elapsed, 0s remaining, 282.6Mb/s]      \n",
      "Downloading 'https://storage.googleapis.com/openimages/v5/class-descriptions-boxable.csv' to 'C:\\Users\\jeric\\fiftyone\\open-images-v6\\train\\metadata\\classes.csv'\n",
      "Downloading 'https://storage.googleapis.com/openimages/2018_04/bbox_labels_600_hierarchy.json' to 'C:\\Users\\jeric\\AppData\\Local\\Temp\\tmpdtf_tm6x\\metadata\\hierarchy.json'\n",
      "Downloading 'https://storage.googleapis.com/openimages/v6/oidv6-train-annotations-bbox.csv' to 'C:\\Users\\jeric\\fiftyone\\open-images-v6\\train\\labels\\detections.csv'\n",
      "Downloading 6000 images\n",
      " 100% |█████████████████| 6000/6000 [15.4m elapsed, 0s remaining, 6.4 files/s]      \n",
      "Dataset info written to 'C:\\Users\\jeric\\fiftyone\\open-images-v6\\info.json'\n",
      "Loading 'open-images-v6' split 'train'\n",
      " 100% |███████████████| 6000/6000 [2.4m elapsed, 0s remaining, 32.8 samples/s]      \n",
      "Dataset 'Bisikleta_bago' created\n"
     ]
    }
   ],
   "source": [
    "# To download the COCO dataset for only the \"person\" and \"car\" classes\n",
    "dataset = fo.zoo.load_zoo_dataset(\n",
    "        dataset_source,\n",
    "        split=\"train\",\n",
    "        label_types=[\"detections\"],\n",
    "        classes=classes,\n",
    "        max_samples=img_count,\n",
    "        dataset_name=dataset_name,\n",
    "        shuffle=True,\n",
    "        seed=51,\n",
    ")"
   ]
  },
  {
   "cell_type": "code",
   "execution_count": 7,
   "metadata": {},
   "outputs": [
    {
     "data": {
      "text/html": [
       "\n",
       "        <iframe\n",
       "            width=\"100%\"\n",
       "            height=\"800\"\n",
       "            src=\"http://localhost:5151/?context=ipython&subscription=2169cfd2-1d26-49b3-a75b-3fb3ff48d1ed\"\n",
       "            frameborder=\"0\"\n",
       "            allowfullscreen\n",
       "            \n",
       "        ></iframe>\n",
       "        "
      ],
      "text/plain": [
       "<IPython.lib.display.IFrame at 0x15321313f10>"
      ]
     },
     "metadata": {},
     "output_type": "display_data"
    }
   ],
   "source": [
    "session = fo.launch_app(dataset)"
   ]
  },
  {
   "cell_type": "code",
   "execution_count": 8,
   "metadata": {},
   "outputs": [],
   "source": [
    "# Create a view that only contains cats and dogs\n",
    "view = dataset.filter_labels(\"ground_truth\", F(\"label\").is_in(classes))"
   ]
  },
  {
   "cell_type": "code",
   "execution_count": 9,
   "metadata": {},
   "outputs": [
    {
     "name": "stdout",
     "output_type": "stream",
     "text": [
      "Directory 'Dataset/Export_Bisikleta' already exists; export will be merged with existing files\n",
      " 100% |███████████████| 3252/3252 [39.4s elapsed, 0s remaining, 95.4 samples/s]       \n"
     ]
    }
   ],
   "source": [
    "# dataset.export(export_dir=\"C:/Users/jeric/Desktop/Export Scissors\", dataset_type=\"coco\", label_field=\"detections\")\n",
    "\n",
    "# The directory to which to write the exported dataset\n",
    "export_dir = \"Dataset/Export_\" + dataset_name\n",
    "\n",
    "if not os.path.exists(export_dir):\n",
    "    os.makedirs(export_dir)\n",
    "\n",
    "# The name of the sample field containing the label that you wish to export\n",
    "# Used when exporting labeled datasets (e.g., classification or detection)\n",
    "label_field = \"ground_truth\"  # for example\n",
    "\n",
    "# The type of dataset to export\n",
    "# Any subclass of `fiftyone.types.Dataset` is supported\n",
    "dataset_type = fo.types.COCODetectionDataset  # for example\n",
    "\n",
    "# Export the dataset\n",
    "view.export(\n",
    "    export_dir=export_dir,\n",
    "    dataset_type=dataset_type,\n",
    "    label_field=label_field,\n",
    ")"
   ]
  }
 ],
 "metadata": {
  "kernelspec": {
   "display_name": "SADI",
   "language": "python",
   "name": "python3"
  },
  "language_info": {
   "codemirror_mode": {
    "name": "ipython",
    "version": 3
   },
   "file_extension": ".py",
   "mimetype": "text/x-python",
   "name": "python",
   "nbconvert_exporter": "python",
   "pygments_lexer": "ipython3",
   "version": "3.9.16"
  },
  "orig_nbformat": 4,
  "vscode": {
   "interpreter": {
    "hash": "553fa0075d0439e363aa13b3596e728a8ceb7250f167be0b460efaa944fb79a6"
   }
  }
 },
 "nbformat": 4,
 "nbformat_minor": 2
}
