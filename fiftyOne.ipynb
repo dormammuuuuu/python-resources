{
 "cells": [
  {
   "cell_type": "code",
   "execution_count": null,
   "metadata": {},
   "outputs": [],
   "source": [
    "import fiftyone.zoo as foz\n",
    "# Visualize the dataset in the FiftyOne App\n",
    "import fiftyone as fo\n",
    "from fiftyone import ViewField as F\n",
    "import os"
   ]
  },
  {
   "cell_type": "code",
   "execution_count": null,
   "metadata": {},
   "outputs": [],
   "source": [
    "# Variables\n",
    "\n",
    "# Dataset Name\n",
    "dataset_name = \"AllDataset\"\n",
    "dataset_source = \"coco-2017\"\n",
    "classes = [\"person\", \"cat\", \"dog\", \"couch\", \"chair\", \"dining table\", \"bed\"]\n",
    "img_count = 10000\n",
    "\n"
   ]
  },
  {
   "cell_type": "code",
   "execution_count": null,
   "metadata": {},
   "outputs": [],
   "source": [
    "# To download the COCO dataset for only the \"person\" and \"car\" classes\n",
    "dataset = fo.zoo.load_zoo_dataset(\n",
    "        dataset_source,\n",
    "        split=\"test\", \n",
    "        label_types=[\"detections\"],\n",
    "        classes=classes,\n",
    "        dataset_name=dataset_name,\n",
    "        shuffle=True,\n",
    "        seed=51,\n",
    ")"
   ]
  },
  {
   "cell_type": "code",
   "execution_count": null,
   "metadata": {},
   "outputs": [],
   "source": [
    "# Load all the datasets then delete except the one we want\n",
    "for ds in fo.list_datasets():\n",
    "    if ds != dataset_name:\n",
    "        fo.delete_dataset(ds)\n"
   ]
  },
  {
   "cell_type": "code",
   "execution_count": null,
   "metadata": {},
   "outputs": [],
   "source": [
    "session = fo.launch_app(dataset)"
   ]
  },
  {
   "cell_type": "code",
   "execution_count": null,
   "metadata": {},
   "outputs": [],
   "source": [
    "# Create a view that only contains cats and dogs\n",
    "view = dataset.filter_labels(\"ground_truth\", F(\"label\").is_in(classes))"
   ]
  },
  {
   "cell_type": "code",
   "execution_count": null,
   "metadata": {},
   "outputs": [],
   "source": [
    "# dataset.export(export_dir=\"C:/Users/jeric/Desktop/Export Scissors\", dataset_type=\"coco\", label_field=\"detections\")\n",
    "\n",
    "# The directory to which to write the exported dataset\n",
    "export_dir = \"Dataset/Export_\" + dataset_name\n",
    "\n",
    "if not os.path.exists(export_dir):\n",
    "    os.makedirs(export_dir)\n",
    "\n",
    "# The name of the sample field containing the label that you wish to export\n",
    "# Used when exporting labeled datasets (e.g., classification or detection)\n",
    "label_field = \"ground_truth\"  # for example\n",
    "\n",
    "# The type of dataset to export\n",
    "# Any subclass of `fiftyone.types.Dataset` is supported\n",
    "# dataset_type = fo.types.COCODetectionDataset  # for example\n",
    "dataset_type = fo.types.YOLOv5Dataset\n",
    "\n",
    "# Export the dataset\n",
    "view.export(\n",
    "    export_dir=export_dir,\n",
    "    dataset_type=dataset_type,\n",
    "    labels_path = \"Dataset/labels\",\n",
    "    label_field=label_field,\n",
    ")"
   ]
  }
 ],
 "metadata": {
  "kernelspec": {
   "display_name": "SADI",
   "language": "python",
   "name": "python3"
  },
  "language_info": {
   "codemirror_mode": {
    "name": "ipython",
    "version": 3
   },
   "file_extension": ".py",
   "mimetype": "text/x-python",
   "name": "python",
   "nbconvert_exporter": "python",
   "pygments_lexer": "ipython3",
   "version": "3.9.16"
  },
  "orig_nbformat": 4,
  "vscode": {
   "interpreter": {
    "hash": "553fa0075d0439e363aa13b3596e728a8ceb7250f167be0b460efaa944fb79a6"
   }
  }
 },
 "nbformat": 4,
 "nbformat_minor": 2
}
